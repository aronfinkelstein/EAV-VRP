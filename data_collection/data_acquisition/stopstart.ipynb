{
 "cells": [
  {
   "cell_type": "code",
   "execution_count": 21,
   "metadata": {},
   "outputs": [],
   "source": [
    "import stopstart as ss\n",
    "import json\n",
    "from pprint import pprint"
   ]
  },
  {
   "cell_type": "code",
   "execution_count": 23,
   "metadata": {},
   "outputs": [
    {
     "name": "stdout",
     "output_type": "stream",
     "text": [
      "Loaded 735 edges from the CSV file\n",
      "Found 225 complex intersection nodes\n",
      "Found 8 nodes with junction tags\n",
      "Found 72 nodes with significant highway transitions\n",
      "Found 3 nodes with significant speed transitions\n",
      "\n",
      "Results:\n",
      "Total edges: 735\n",
      "Edges with stop-start driving: 285 (38.8%)\n"
     ]
    },
    {
     "name": "stderr",
     "output_type": "stream",
     "text": [
      "/Users/aronfinkelstein/Documents/GitHub/EAV-VRP/data_acquisition/stopstart.py:186: FutureWarning: Setting an item of incompatible dtype is deprecated and will raise an error in a future version of pandas. Value '6.5' has dtype incompatible with int64, please explicitly cast to a compatible dtype first.\n",
      "  result_df.loc[i, 'confidence'] = max(u_conf, v_conf)\n",
      "/var/folders/rm/kt0pkqhs74gch9sf_rcn87180000gn/T/ipykernel_45856/765591118.py:9: FutureWarning: Series.__getitem__ treating keys as positions is deprecated. In a future version, integer keys will always be treated as labels (consistent with DataFrame behavior). To access a value by position, use `ser.iloc[pos]`\n",
      "  if row[1][1]:\n"
     ]
    }
   ],
   "source": [
    "stop_start_edges = ss.classify_stop_start_edges('../data/random_weight_edge.csv')\n",
    "\n",
    "with open(\"test_data.json\", \"r\") as file:\n",
    "    road_data = json.load(file)\n",
    "\n",
    "\n",
    "i = 0\n",
    "for row in stop_start_edges.iterrows():\n",
    "    if row[1][1]:\n",
    "        road_data[f'path{i+1}'][\"smooth\"] = False\n",
    "    else:\n",
    "        road_data[f'path{i+1}'][\"smooth\"] = True\n",
    "    i +=1\n",
    "\n",
    "with open(\"stop_start_data.json\", \"w\") as file:\n",
    "    json.dump(road_data, file, indent=4)"
   ]
  }
 ],
 "metadata": {
  "kernelspec": {
   "display_name": "vrpvenv",
   "language": "python",
   "name": "python3"
  },
  "language_info": {
   "codemirror_mode": {
    "name": "ipython",
    "version": 3
   },
   "file_extension": ".py",
   "mimetype": "text/x-python",
   "name": "python",
   "nbconvert_exporter": "python",
   "pygments_lexer": "ipython3",
   "version": "3.13.0"
  }
 },
 "nbformat": 4,
 "nbformat_minor": 2
}
