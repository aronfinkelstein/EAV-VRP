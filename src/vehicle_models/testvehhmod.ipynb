{
 "cells": [
  {
   "cell_type": "code",
   "execution_count": 2,
   "metadata": {},
   "outputs": [],
   "source": [
    "import energy_consumption as ec"
   ]
  },
  {
   "cell_type": "code",
   "execution_count": null,
   "metadata": {},
   "outputs": [],
   "source": [
    "conf_data = {\n",
    "\"static_data\" : {\n",
    "    \"air_dens\" : 1.293 ,\n",
    "    \"grav_acc\" : 9.81,\n",
    "},\n",
    "\"vehicle_data\": {\n",
    "    \"mass\" : 400 ,\n",
    "    \"frontal_area\" : 2,\n",
    "    \"drag_coeff\" : 1.2,\n",
    "    \"roll_res\" : 1.3,\n",
    "    \"motor_eff\" : 0.7\n",
    "},\n",
    "\"battery_data\" : {\n",
    "    \"OCV\" : 14.2,\n",
    "    \"capacity\" : 14,\n",
    "    \"efficiency\" : 0.7,\n",
    "    \"R1_t\" : ,\n",
    "    \"R2_t\" : ,\n",
    "    \"Ri\" : ,\n",
    "    \"ns\" : ,\n",
    "    \"np\" : \n",
    "}}\n",
    "\n",
    "edge_data = {\n",
    "\n",
    "    \"distance\" : ,\n",
    "    \"speed_lim\" : ,\n",
    "    \"avg_incl\" : ,\n",
    "\n",
    "}\n"
   ]
  }
 ],
 "metadata": {
  "kernelspec": {
   "display_name": "vrpvenv",
   "language": "python",
   "name": "python3"
  },
  "language_info": {
   "codemirror_mode": {
    "name": "ipython",
    "version": 3
   },
   "file_extension": ".py",
   "mimetype": "text/x-python",
   "name": "python",
   "nbconvert_exporter": "python",
   "pygments_lexer": "ipython3",
   "version": "3.13.0"
  }
 },
 "nbformat": 4,
 "nbformat_minor": 2
}
