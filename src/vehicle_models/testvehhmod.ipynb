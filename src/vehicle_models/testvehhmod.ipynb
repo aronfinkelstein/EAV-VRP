{
 "cells": [
  {
   "cell_type": "code",
   "execution_count": 1,
   "metadata": {},
   "outputs": [],
   "source": [
    "import energy_consumption as ec\n",
    "import json\n",
    "import math"
   ]
  },
  {
   "cell_type": "markdown",
   "metadata": {},
   "source": [
    "## Import data"
   ]
  },
  {
   "cell_type": "code",
   "execution_count": 2,
   "metadata": {},
   "outputs": [],
   "source": [
    "with open(\"../../data_acquisition/test_data.json\", \"r\") as file:\n",
    "    complete_road_data = json.load(file)\n",
    "with open(\"static_data.json\", \"r\") as file:\n",
    "    static_data = json.load(file)\n",
    "with open(\"vehicle_data.json\", \"r\") as file:\n",
    "    vehicle_data = json.load(file)\n",
    "with open(\"battery_data.json\", \"r\") as file:\n",
    "    battery_data = json.load(file)"
   ]
  },
  {
   "cell_type": "code",
   "execution_count": 3,
   "metadata": {},
   "outputs": [],
   "source": [
    "OCV = battery_data[\"OCV\"]\n",
    "capacity = battery_data[\"Capacity\"]\n",
    "R_int = battery_data[\"R_internal\"]\n",
    "motor_eff = vehicle_data[\"motor_eff\"]\n"
   ]
  },
  {
   "cell_type": "code",
   "execution_count": 6,
   "metadata": {},
   "outputs": [
    {
     "name": "stdout",
     "output_type": "stream",
     "text": [
      "1804.7811826048185\n",
      "4817.976050807139\n",
      "1223.3301412815836\n",
      "2609.9731642615693\n",
      "4948.44753038235\n",
      "13996.980522735086\n",
      "2716.054405053969\n",
      "1858.0893571548916\n",
      "1470.562209216988\n",
      "2075.2440694383604\n",
      "2659.4731564551116\n",
      "2678.6214298592913\n",
      "2324.936224065771\n",
      "2636.953576144407\n",
      "7618.340269223793\n",
      "254.5741655183685\n",
      "1863.9033320674077\n",
      "0.0\n",
      "26599.34044962044\n",
      "15343.73259744019\n",
      "27242.64280857886\n",
      "13636.15384189879\n",
      "0.0\n",
      "0.0\n",
      "6849.8033801296515\n",
      "8652.166234055398\n",
      "1617.1808903685728\n",
      "3.6621848760273\n",
      "419.61872023265846\n",
      "1136.4772613972063\n",
      "5569.6821517194685\n",
      "1542.5248998419422\n",
      "3372.6123072020237\n",
      "1085.2668748171059\n",
      "1411.3312471829233\n",
      "970.3996209828385\n",
      "513.3293431350517\n",
      "1121.1548262706267\n",
      "820.3754260086628\n",
      "532.4808596960258\n",
      "535.5506717982971\n",
      "1311.5069428003294\n",
      "2547.9422343922915\n",
      "1487.5109131008278\n",
      "4828.670859788735\n",
      "6557.465250544755\n",
      "1043.485069553281\n",
      "249.96826188501248\n",
      "0.0\n",
      "0.0\n",
      "0.0\n",
      "0.0\n",
      "7487.206523671512\n",
      "0.0\n",
      "2584.3472692878768\n",
      "4235.619944516299\n",
      "10127.899008115424\n",
      "16209.729319467471\n"
     ]
    },
    {
     "name": "stderr",
     "output_type": "stream",
     "text": [
      "/Users/aronfinkelstein/Documents/GitHub/EAV-VRP/src/vehicle_models/energy_consumption.py:32: RuntimeWarning: invalid value encountered in scalar power\n",
      "  I_l = (OCV - (OCV**2 -4*OCV*P_batt)**0.5)/(2*R_i)\n"
     ]
    }
   ],
   "source": [
    "for path, sections in complete_road_data.items():\n",
    "    for section, data in sections.items():\n",
    "        data[\"velocity\"] = 8.9408\n",
    "        data[\"acceleration\"] = 0\n",
    "        tract_power = ec.physical_model(vehicle_data, static_data, data)\n",
    "        batt_power = ec.battery_power_model(tract_power, motor_eff)\n",
    "        current = ec.discharge_current(OCV, R_int, batt_power)\n",
    "        c_rate = ec.find_crate(ec.discharge_current(OCV, R_int, batt_power), capacity)\n",
    "        energy = ec.get_edge_consumption(batt_power, data)\n",
    "\n",
    "        print(energy)"
   ]
  },
  {
   "cell_type": "code",
   "execution_count": null,
   "metadata": {},
   "outputs": [],
   "source": []
  },
  {
   "cell_type": "code",
   "execution_count": 5,
   "metadata": {},
   "outputs": [
    {
     "ename": "TypeError",
     "evalue": "find_crate() missing 2 required positional arguments: 'current' and 'capacity'",
     "output_type": "error",
     "traceback": [
      "\u001b[0;31m---------------------------------------------------------------------------\u001b[0m",
      "\u001b[0;31mTypeError\u001b[0m                                 Traceback (most recent call last)",
      "\u001b[1;32m/Users/aronfinkelstein/Documents/GitHub/EAV-VRP/src/vehicle_models/testvehhmod.ipynb Cell 7\u001b[0m line \u001b[0;36m1\n\u001b[1;32m     <a href='vscode-notebook-cell:/Users/aronfinkelstein/Documents/GitHub/EAV-VRP/src/vehicle_models/testvehhmod.ipynb#W3sZmlsZQ%3D%3D?line=9'>10</a>\u001b[0m     I_l \u001b[39m=\u001b[39m (OCV \u001b[39m-\u001b[39m math\u001b[39m.\u001b[39msqrt(OCV\u001b[39m*\u001b[39m\u001b[39m*\u001b[39m\u001b[39m2\u001b[39m \u001b[39m-\u001b[39m \u001b[39m4\u001b[39m \u001b[39m*\u001b[39m R_i \u001b[39m*\u001b[39m P_batt)) \u001b[39m/\u001b[39m (\u001b[39m2\u001b[39m \u001b[39m*\u001b[39m R_i)\n\u001b[1;32m     <a href='vscode-notebook-cell:/Users/aronfinkelstein/Documents/GitHub/EAV-VRP/src/vehicle_models/testvehhmod.ipynb#W3sZmlsZQ%3D%3D?line=11'>12</a>\u001b[0m     \u001b[39mreturn\u001b[39;00m I_l\n\u001b[0;32m---> <a href='vscode-notebook-cell:/Users/aronfinkelstein/Documents/GitHub/EAV-VRP/src/vehicle_models/testvehhmod.ipynb#W3sZmlsZQ%3D%3D?line=13'>14</a>\u001b[0m c_rate \u001b[39m=\u001b[39m ec\u001b[39m.\u001b[39;49mfind_crate()\n\u001b[1;32m     <a href='vscode-notebook-cell:/Users/aronfinkelstein/Documents/GitHub/EAV-VRP/src/vehicle_models/testvehhmod.ipynb#W3sZmlsZQ%3D%3D?line=15'>16</a>\u001b[0m \u001b[39mprint\u001b[39m(discharge_current(battery_data, \u001b[39m4193.659401671112\u001b[39m))\n",
      "\u001b[0;31mTypeError\u001b[0m: find_crate() missing 2 required positional arguments: 'current' and 'capacity'"
     ]
    }
   ],
   "source": [
    "\n",
    "def discharge_current(battery_data: dict, P_batt: float)-> float:\n",
    "    '''\n",
    "    Find discharge currrent\n",
    "    '''\n",
    "    OCV = battery_data[\"OCV\"]\n",
    "    R_i = battery_data[\"R_internal\"]   \n",
    "    if P_batt > (OCV**2) / (4 * R_i):\n",
    "        raise ValueError(\"P_batt is too high, causing imaginary current.\")\n",
    "    \n",
    "    I_l = (OCV - math.sqrt(OCV**2 - 4 * R_i * P_batt)) / (2 * R_i)\n",
    "    \n",
    "    return I_l\n",
    "\n",
    "c_rate = ec.find_crate()\n",
    "\n",
    "print(discharge_current(battery_data, 4193.659401671112))"
   ]
  }
 ],
 "metadata": {
  "kernelspec": {
   "display_name": "vrpvenv",
   "language": "python",
   "name": "python3"
  },
  "language_info": {
   "codemirror_mode": {
    "name": "ipython",
    "version": 3
   },
   "file_extension": ".py",
   "mimetype": "text/x-python",
   "name": "python",
   "nbconvert_exporter": "python",
   "pygments_lexer": "ipython3",
   "version": "3.13.0"
  }
 },
 "nbformat": 4,
 "nbformat_minor": 2
}
