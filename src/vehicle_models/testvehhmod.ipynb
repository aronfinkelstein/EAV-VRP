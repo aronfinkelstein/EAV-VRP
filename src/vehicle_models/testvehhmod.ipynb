{
 "cells": [
  {
   "cell_type": "code",
   "execution_count": 2,
   "metadata": {},
   "outputs": [],
   "source": [
    "import energy_consumption as ec\n",
    "import json"
   ]
  },
  {
   "cell_type": "code",
   "execution_count": 3,
   "metadata": {},
   "outputs": [],
   "source": [
    "with open(\"../../data_acquisition/test_data.json\", \"r\") as file:\n",
    "    complete_road_data = json.load(file)\n",
    "with open(\"static_data.json\", \"r\") as file:\n",
    "    static_data = json.load(file)\n",
    "with open(\"vehicle_data.json\", \"r\") as file:\n",
    "    vehicle_data = json.load(file)"
   ]
  },
  {
   "cell_type": "code",
   "execution_count": 4,
   "metadata": {},
   "outputs": [
    {
     "name": "stdout",
     "output_type": "stream",
     "text": [
      "2935.5615811697785 2.81\n",
      "2886.649307753462 2.73\n",
      "1271.0193410849206 0.09\n",
      "2531.9295387383536 2.15\n",
      "4272.721654532201 5.0\n",
      "8576.604815505378 12.12\n",
      "5307.474174587404 6.7\n",
      "3161.7295098904333 3.18\n",
      "1081.1971072594017 -0.22\n",
      "1901.6249194069042 1.12\n",
      "4887.895315582652 6.01\n",
      "7027.150181305752 9.54\n",
      "5865.9237012416215 7.62\n",
      "5137.282688285763 6.42\n",
      "7304.39975122368 10.0\n",
      "0 -3.46\n",
      "707.6716945880999 -0.83\n",
      "0 -4.13\n",
      "3717.5720765996384 4.09\n",
      "3516.075523493291 3.76\n",
      "4175.1693201026865 4.84\n",
      "2929.447754563128 2.8\n",
      "0 -3.89\n",
      "0 -3.77\n",
      "2360.625995774606 1.87\n",
      "2544.1641274688127 2.17\n",
      "554.5937037792205 -1.08\n",
      "0 -3.56\n",
      "0 -2.19\n",
      "2843.848000589042 2.66\n",
      "3656.521832380683 3.99\n",
      "3619.8877462870983 3.93\n",
      "2507.4597919376665 2.11\n",
      "2611.4508976711186 2.28\n",
      "2776.583178196128 2.55\n",
      "2660.382945347794 2.36\n",
      "2079.1285688370453 1.41\n",
      "2054.646893107809 1.37\n",
      "2011.8026960912086 1.3\n",
      "909.7418232519668 -0.5\n",
      "879.1248425203906 -0.55\n",
      "1356.7429588451305 0.23\n",
      "1797.5596720437427 0.95\n",
      "1338.3737889638348 0.2\n",
      "1185.293928026187 -0.05\n",
      "3021.148783150596 2.95\n",
      "193.36626446142083 -1.67\n",
      "0 -3.1\n",
      "0 -3.87\n",
      "0 -3.63\n",
      "0 -6.56\n",
      "0 -5.0\n",
      "462.7505219374957 -1.23\n",
      "0 -5.48\n",
      "211.7320970589937 -1.64\n",
      "3473.322747987498 3.69\n",
      "3247.2832424143735 3.32\n",
      "4236.142506166994 4.94\n"
     ]
    }
   ],
   "source": [
    "for path, sections in complete_road_data.items():\n",
    "    for section, data in sections.items():\n",
    "        data[\"velocity\"] = 8.9408\n",
    "        data[\"acceleration\"] = 0\n",
    "        tract_power = ec.physical_model(vehicle_data, static_data, data)\n",
    "        print(tract_power, data[\"avg_incline_angle\"])\n"
   ]
  }
 ],
 "metadata": {
  "kernelspec": {
   "display_name": "vrpvenv",
   "language": "python",
   "name": "python3"
  },
  "language_info": {
   "codemirror_mode": {
    "name": "ipython",
    "version": 3
   },
   "file_extension": ".py",
   "mimetype": "text/x-python",
   "name": "python",
   "nbconvert_exporter": "python",
   "pygments_lexer": "ipython3",
   "version": "3.13.0"
  }
 },
 "nbformat": 4,
 "nbformat_minor": 2
}
