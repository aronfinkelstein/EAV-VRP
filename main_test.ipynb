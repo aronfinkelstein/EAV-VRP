{
  "cells": [
    {
      "cell_type": "markdown",
      "metadata": {},
      "source": [
        "## Import modules, data and packages"
      ]
    },
    {
      "cell_type": "code",
      "execution_count": 22,
      "metadata": {},
      "outputs": [],
      "source": [
        "import models.road_network.create_graph as cg\n",
        "import models.vehicle_models.energy_consumption as ec\n",
        "import simulation.simulate_routes as sr\n",
        "import main as m\n",
        "import json\n",
        "import math\n",
        "import pandas as pd\n",
        "import random\n",
        "from pprint import pprint\n",
        "import matplotlib.pyplot as plt\n",
        "import numpy as np\n",
        "import seaborn as sns "
      ]
    },
    {
      "cell_type": "markdown",
      "metadata": {},
      "source": [
        "Collect data, and config files"
      ]
    },
    {
      "cell_type": "code",
      "execution_count": 23,
      "metadata": {},
      "outputs": [],
      "source": [
        "with open(\"./data_collection/data/test_data.json\", \"r\") as file:\n",
        "    complete_road_data = json.load(file)\n",
        "with open(\"models/vehicle_models/static_data.json\", \"r\") as file:\n",
        "    static_data = json.load(file)\n",
        "with open(\"models/vehicle_models/vehicle_data.json\", \"r\") as file:\n",
        "    vehicle_data = json.load(file)\n",
        "with open(\"models/vehicle_models/battery_data.json\", \"r\") as file:\n",
        "    battery_data = json.load(file)\n",
        "\n",
        "with open(\"./data_collection/data/analysed_dis_data.json\", \"r\") as file:\n",
        "    map_data = json.load(file)\n",
        "road_network_file = './data_collection/data/edge_data.csv' \n",
        "road_df = pd.read_csv(road_network_file)\n"
      ]
    },
    {
      "cell_type": "markdown",
      "metadata": {},
      "source": [
        "Define key variables and compile graph"
      ]
    },
    {
      "cell_type": "code",
      "execution_count": 24,
      "metadata": {},
      "outputs": [],
      "source": [
        "OCV = battery_data[\"OCV\"]\n",
        "capacity = battery_data[\"Capacity\"]\n",
        "R_int = battery_data[\"R_internal\"]\n",
        "motor_eff = vehicle_data[\"motor_eff\"]\n",
        "max_motor_power = vehicle_data[\"max_motor_power\"]\n",
        "\n",
        "graph = cg.create_osmnx_compatible_graph(road_network_file)\n"
      ]
    },
    {
      "cell_type": "markdown",
      "metadata": {},
      "source": [
        "## Analyse Route and Collect Data"
      ]
    },
    {
      "cell_type": "markdown",
      "metadata": {},
      "source": [
        "Random Route"
      ]
    },
    {
      "cell_type": "code",
      "execution_count": 25,
      "metadata": {},
      "outputs": [],
      "source": [
        "# simulated_route_dict = sr.find_random_route(map_data,road_df, graph)\n",
        "# sim_dist, sim_consum, sim_climb = sr.return_route_data_complex(simulated_route_dict, vehicle_data, static_data, motor_eff, max_motor_power)"
      ]
    },
    {
      "cell_type": "markdown",
      "metadata": {},
      "source": [
        "## Test a single route"
      ]
    },
    {
      "cell_type": "code",
      "execution_count": 26,
      "metadata": {},
      "outputs": [],
      "source": [
        "# test_output = sr.find_route(map_data, road_df, graph,247900792, 1692444892, weights_type='random')\n",
        "# s_dist, s_cons, s_climb = sr.return_route_data_complex(test_output, vehicle_data, static_data, motor_eff, max_motor_power)\n",
        "\n",
        "# print(s_dist, s_cons, s_climb)"
      ]
    },
    {
      "cell_type": "markdown",
      "metadata": {},
      "source": [
        "Define test set."
      ]
    },
    {
      "cell_type": "code",
      "execution_count": 27,
      "metadata": {},
      "outputs": [],
      "source": [
        "test_set = [(2004050909, 5517369465), (1022548104, 6058290566), (26167344, 1970089908), (10935221495, 4765573944), (1970773874, 1692444892), (1692444945, 9944114380), (2472524829, 2700693002), (4117553202, 4150116222), (957754269, 10751398349), (4032728634, 26215513), (26215525, 1968626161), (26165148, 5519467268), (26070224, 6439781387), (4032728634, 26215516), (12106932177, 4117553241), (12106877513, 4416875033), (1968626170, 7737202755), (26215527, 1775501534), (6835942108, 1968626144), (1692444818, 5519467286), (26218282, 26070232), (826838268, 10935221426), (982935335, 21529979), (826838286, 4117553197), (2207401618, 11865591910), (2757541579, 2298696536), (430178844, 26070191), (1572010433, 26070233), (10794781025, 10935231459), (465205523, 26070207), (1692444818, 4414001238), (1775501535, 1968626115), (12106877508, 3460374403), (5499934242, 4117553207), (10739497719, 830599351), (10794781025, 242790325), (1775501535, 10935231430), (17585143, 26070238), (26190470, 981814755), (3683449012, 26165125), (21531985, 6071146268), (242790325, 3684809154), (26070196, 2004051104), (26104492, 6058981816), (11865591906, 10739447463), (26070196, 957754269), (3683449012, 5499934253), (5499934241, 830599395), (8265614352, 26104496), (10935221491, 10794808742), (5517369465, 5359649075), (26070198, 6071146263), (6835918884, 26070229), (4585717384, 26070224), (10935221491, 26167336), (430191112, 1130578185), (6071146258, 1022548134), (26070190, 2004051110), (26104404, 4117553193), (4117553193, 26070236), (1775501535, 1022548104), (10935231459, 10283016088), (1968626115, 853556892), (10935221495, 2757541600), (1692444946, 4117553193), (26190463, 974590436), (430191416, 26215512), (26070190, 1130578185), (826838286, 8265614352), (25991706, 1052953603), (982935335, 891026747), (4218233651, 26070229), (430672321, 1692444946), (1968626170, 1986278381), (26215527, 26218275), (26215522, 26070189), (957704261, 26070239), (367036281, 26165127), (10283016087, 7065555301), (26165128, 4117553235), (2004050909, 5499934253), (26070212, 2334411823), (4032728626, 10794808742), (1692444887, 26167336), (4117553207, 5517369464), (1130492591, 5499934229), (2004050917, 891026747), (2006482395, 2757541600), (3683449014, 17585265), (26070206, 430270406), (26218283, 10794781025), (21529973, 830599351), (1968626134, 1968626170), (4765573944, 4032728626), (17585267, 247900792), (430179935, 9568203077), (26190463, 10935221494), (10935231422, 26165135), (4117553202, 26070211), (830599319, 8265614349)]"
      ]
    },
    {
      "cell_type": "markdown",
      "metadata": {},
      "source": [
        "Simulate routes for all test sets."
      ]
    },
    {
      "cell_type": "code",
      "execution_count": 28,
      "metadata": {},
      "outputs": [
        {
          "name": "stdout",
          "output_type": "stream",
          "text": [
            "---Route---\n",
            "[10935221495, 26167336, 10935231429, 10935231459, 26165130, 1692444945, 6835942106, 1692444905, 10751398349, 1692444892, 6835918884, 10751814850, 26165141, 10738320242, 279377480, 10739497719, 1692444818, 4218233650, 4218233651, 2006482485, 1130578185, 26104492, 17585143, 957754269, 17585146, 26070233, 4765573944]\n",
            "All 26 route segments were found successfully\n"
          ]
        }
      ],
      "source": [
        "sim_results = {}\n",
        "# for points in test_set:\n",
        "points = test_set[5]\n",
        "# Get results for default weights\n",
        "route_output = sr.find_route(map_data, road_df, graph, points[0], points[1], plot = False, weights_type='random')\n",
        "\n",
        "s_dist, s_cons, s_climb = sr.return_route_data_complex(route_output, vehicle_data, static_data, motor_eff, max_motor_power)\n",
        "# Initialize dictionary for this points pair\n",
        "sim_results[f'{points}'] = {\"dist\": s_dist, \"climb\": s_climb, \"cons\": s_cons}"
      ]
    },
    {
      "cell_type": "markdown",
      "metadata": {},
      "source": [
        "Integrate with current"
      ]
    },
    {
      "cell_type": "code",
      "execution_count": null,
      "metadata": {},
      "outputs": [],
      "source": []
    }
  ],
  "metadata": {
    "kernelspec": {
      "display_name": "vrpvenv",
      "language": "python",
      "name": "python3"
    },
    "language_info": {
      "codemirror_mode": {
        "name": "ipython",
        "version": 3
      },
      "file_extension": ".py",
      "mimetype": "text/x-python",
      "name": "python",
      "nbconvert_exporter": "python",
      "pygments_lexer": "ipython3",
      "version": "3.13.0"
    }
  },
  "nbformat": 4,
  "nbformat_minor": 2
}
