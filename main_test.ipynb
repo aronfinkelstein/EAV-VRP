{
  "cells": [
    {
      "cell_type": "markdown",
      "metadata": {},
      "source": [
        "## Import modules, data and packages"
      ]
    },
    {
      "cell_type": "code",
      "execution_count": 1,
      "metadata": {},
      "outputs": [],
      "source": [
        "import models.road_network.create_graph as cg\n",
        "import models.vehicle_models.energy_consumption as ec\n",
        "import simulation.simulate_routes as sr\n",
        "import main as m\n",
        "import json\n",
        "import math\n",
        "import pandas as pd\n",
        "import random\n",
        "from pprint import pprint\n",
        "import matplotlib.pyplot as plt\n",
        "import numpy as np"
      ]
    },
    {
      "cell_type": "markdown",
      "metadata": {},
      "source": [
        "Collect data, and config files"
      ]
    },
    {
      "cell_type": "code",
      "execution_count": 2,
      "metadata": {},
      "outputs": [],
      "source": [
        "with open(\"./data_collection/data/test_data.json\", \"r\") as file:\n",
        "    complete_road_data = json.load(file)\n",
        "with open(\"models/vehicle_models/static_data.json\", \"r\") as file:\n",
        "    static_data = json.load(file)\n",
        "with open(\"models/vehicle_models/vehicle_data.json\", \"r\") as file:\n",
        "    vehicle_data = json.load(file)\n",
        "with open(\"models/vehicle_models/battery_data.json\", \"r\") as file:\n",
        "    battery_data = json.load(file)\n",
        "\n",
        "with open(\"./data_collection/data/fixed_analysed_dis_data.json\", \"r\") as file:\n",
        "    map_data = json.load(file)\n",
        "road_network_file = './data_collection/data/edge_data.csv' \n",
        "road_df = pd.read_csv(road_network_file)\n",
        "\n"
      ]
    },
    {
      "cell_type": "markdown",
      "metadata": {},
      "source": [
        "Define key variables and compile graph"
      ]
    },
    {
      "cell_type": "code",
      "execution_count": 3,
      "metadata": {},
      "outputs": [
        {
          "name": "stdout",
          "output_type": "stream",
          "text": [
            "{'Capacity': 58, 'OCV': 38, 'R_internal': 0.1}\n",
            "{'drag_coeff': 1.05,\n",
            " 'frontal_area': 2,\n",
            " 'mass': 200,\n",
            " 'max_acceleration': 1,\n",
            " 'max_speed': 5.6,\n",
            " 'motor_eff': 0.6,\n",
            " 'roll_res': 0.007}\n"
          ]
        }
      ],
      "source": [
        "OCV = battery_data[\"OCV\"]\n",
        "capacity = battery_data[\"Capacity\"]\n",
        "R_int = battery_data[\"R_internal\"]\n",
        "motor_eff = vehicle_data[\"motor_eff\"]\n",
        "\n",
        "\n",
        "graph = cg.create_osmnx_compatible_graph(road_network_file)\n",
        "\n",
        "\n",
        "\n",
        "pprint(battery_data)\n",
        "pprint(vehicle_data)\n",
        "\n",
        "\n"
      ]
    },
    {
      "cell_type": "markdown",
      "metadata": {},
      "source": [
        "## Analyse Route and Collect Data"
      ]
    },
    {
      "cell_type": "markdown",
      "metadata": {},
      "source": [
        "Define test set."
      ]
    },
    {
      "cell_type": "code",
      "execution_count": 4,
      "metadata": {},
      "outputs": [],
      "source": [
        "test_set = [(2004050909, 5517369465), (1022548104, 6058290566), (26167344, 1970089908), (10935221495, 4765573944), (1970773874, 1692444892), (1692444945, 9944114380), (2472524829, 2700693002), (4117553202, 4150116222), (957754269, 10751398349), (4032728634, 26215513), (26215525, 1968626161), (26165148, 5519467268), (26070224, 6439781387), (4032728634, 26215516), (12106932177, 4117553241), (12106877513, 4416875033), (1968626170, 7737202755), (26215527, 1775501534), (6835942108, 1968626144), (1692444818, 5519467286), (26218282, 26070232), (826838268, 10935221426), (982935335, 21529979), (826838286, 4117553197), (2207401618, 11865591910), (2757541579, 2298696536), (430178844, 26070191), (1572010433, 26070233), (10794781025, 10935231459), (465205523, 26070207), (1692444818, 4414001238), (1775501535, 1968626115), (12106877508, 3460374403), (5499934242, 4117553207), (10739497719, 830599351), (10794781025, 242790325), (1775501535, 10935231430), (17585143, 26070238), (26190470, 981814755), (3683449012, 26165125), (21531985, 6071146268), (242790325, 3684809154), (26070196, 2004051104), (26104492, 6058981816), (11865591906, 10739447463), (26070196, 957754269), (3683449012, 5499934253), (5499934241, 830599395), (8265614352, 26104496), (10935221491, 10794808742), (5517369465, 5359649075), (26070198, 6071146263), (6835918884, 26070229), (4585717384, 26070224), (10935221491, 26167336), (430191112, 1130578185), (6071146258, 1022548134), (26070190, 2004051110), (26104404, 4117553193), (4117553193, 26070236), (1775501535, 1022548104), (10935231459, 10283016088), (1968626115, 853556892), (10935221495, 2757541600), (1692444946, 4117553193), (26190463, 974590436), (430191416, 26215512), (26070190, 1130578185), (826838286, 8265614352), (25991706, 1052953603), (982935335, 891026747), (4218233651, 26070229), (430672321, 1692444946), (1968626170, 1986278381), (26215527, 26218275), (26215522, 26070189), (957704261, 26070239), (367036281, 26165127), (10283016087, 7065555301), (26165128, 4117553235), (2004050909, 5499934253), (26070212, 2334411823), (4032728626, 10794808742), (1692444887, 26167336), (4117553207, 5517369464), (1130492591, 5499934229), (2004050917, 891026747), (2006482395, 2757541600), (3683449014, 17585265), (26070206, 430270406), (26218283, 10794781025), (21529973, 830599351), (1968626134, 1968626170), (4765573944, 4032728626), (17585267, 247900792), (430179935, 9568203077), (26190463, 10935221494), (10935231422, 26165135), (4117553202, 26070211), (830599319, 8265614349)]"
      ]
    },
    {
      "cell_type": "markdown",
      "metadata": {},
      "source": [
        "explore relationship between OCV and total consumption."
      ]
    },
    {
      "cell_type": "code",
      "execution_count": 5,
      "metadata": {},
      "outputs": [
        {
          "name": "stdout",
          "output_type": "stream",
          "text": [
            "---Route---\n",
            "[1692444945, 26165130, 4150116225, 9568203082, 9568203077, 26165128, 26165125, 26165127, 4032728626, 26165148, 12106877508, 26215514, 26215513, 26215512, 5519467253, 1022548134, 25991707, 26070201, 5359649075, 5359649076, 9944114376, 9944114380]\n",
            "All 21 route segments were found successfully\n",
            "=======maxpower=======\n",
            "3610.0\n",
            "exceeded max current draw\n",
            "exceeded max current draw\n",
            "exceeded max current draw\n",
            "WARNING: Requested power 5587.90W exceeds battery capability 3610.00W\n",
            "exceeded max current draw\n",
            "WARNING: Requested power 4189.84W exceeds battery capability 3610.00W\n",
            "exceeded max current draw\n",
            "exceeded max current draw\n",
            "exceeded max current draw\n",
            "Total Consumptions: 110.65791901090186\n",
            "Total Climb: -2.7180023193359375\n",
            "Total Distance: 1491.8755688718174\n"
          ]
        }
      ],
      "source": [
        "sim_results = {}\n",
        "# for points in test_set:\n",
        "points = test_set[5]\n",
        "# Get results for default weights\n",
        "route_output = sr.find_route(map_data, road_df, graph, points[0], points[1], plot = False, weights_type='random')\n",
        "total_distance, total_consumption, total_climb, detailed_results = sr.return_route_data_complex(route_output, vehicle_data, static_data, motor_eff, battery_data)\n",
        "\n",
        "print(f'Total Consumptions: {total_consumption}')\n",
        "print(f'Total Climb: {total_climb}')\n",
        "print(f'Total Distance: {total_distance}')"
      ]
    },
    {
      "cell_type": "code",
      "execution_count": 6,
      "metadata": {},
      "outputs": [],
      "source": [
        "with open(\"test_data/test_input_route.json\", \"w\") as file:\n",
        "    json.dump(route_output, file, indent=4)\n",
        "# After your analysis:\n",
        "with open(\"test_data/test_output.json\", \"w\") as file:\n",
        "    json.dump(detailed_results, file, indent=4, default=lambda x: float(x) if isinstance(x, np.float64) else (int(x) if isinstance(x, np.integer) else (bool(x) if isinstance(x, np.bool_) else (x.tolist() if isinstance(x, np.ndarray) else str(x) if not isinstance(x, (str, int, float, bool, list, dict, type(None))) else x))))"
      ]
    }
  ],
  "metadata": {
    "kernelspec": {
      "display_name": "vrpvenv",
      "language": "python",
      "name": "python3"
    },
    "language_info": {
      "codemirror_mode": {
        "name": "ipython",
        "version": 3
      },
      "file_extension": ".py",
      "mimetype": "text/x-python",
      "name": "python",
      "nbconvert_exporter": "python",
      "pygments_lexer": "ipython3",
      "version": "3.13.0"
    }
  },
  "nbformat": 4,
  "nbformat_minor": 2
}
