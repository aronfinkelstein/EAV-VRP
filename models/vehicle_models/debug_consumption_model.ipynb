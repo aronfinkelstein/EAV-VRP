{
 "cells": [
  {
   "cell_type": "code",
   "execution_count": 25,
   "metadata": {},
   "outputs": [],
   "source": [
    "import json\n",
    "import numpy as np\n",
    "from energy_consumption import (\n",
    "    physical_model, \n",
    "    battery_power_model, \n",
    "    calculate_segment_energy_with_acceleration, \n",
    "    discharge_current,\n",
    "    find_crate\n",
    ")\n",
    "import matplotlib.pyplot as plt\n"
   ]
  },
  {
   "cell_type": "code",
   "execution_count": 26,
   "metadata": {},
   "outputs": [],
   "source": [
    "with open('vehicle_data.json', 'r') as f:\n",
    "    vehicle_data = json.load(f)\n",
    "with open('static_data.json', 'r') as f:\n",
    "    static_data = json.load(f)\n",
    "with open('battery_data.json', 'r') as f:\n",
    "    battery_data = json.load(f)"
   ]
  },
  {
   "cell_type": "markdown",
   "metadata": {},
   "source": [
    "Test Consumption Calculation"
   ]
  },
  {
   "cell_type": "code",
   "execution_count": 27,
   "metadata": {},
   "outputs": [],
   "source": [
    "def run_simple_test():\n",
    "    \"\"\"\n",
    "    Simple test for EV energy model using data from JSON files\n",
    "    \"\"\"\n",
    "    segment_data = {'avg_incline_angle': -0.31,\n",
    "    'climb': -0.0569305419921875,\n",
    "    'coords': [-2.6119762, 51.4563829, -2.6120352, 51.4563077],\n",
    "    'distance': 1,\n",
    "    \"velocity\": 8,\n",
    "    \"acceleration\": 0,\n",
    "    'points': ['point1', 'point2']}\n",
    "    \n",
    "    # Set initial and target velocity\n",
    "    initial_velocity = 0  # m/s (starting from rest)\n",
    "    target_velocity = 8  # m/s (90 km/h)\n",
    "    \n",
    "    # Extract required values from battery data\n",
    "    max_motor_power = vehicle_data[\"max_motor_power\"]\n",
    "    motor_efficiency = vehicle_data[\"motor_eff\"]\n",
    "    \n",
    "    # Print input data\n",
    "    print(\"=== INPUT DATA ===\")\n",
    "    \n",
    "    print(\"\\nSegment Data:\")\n",
    "    for key, value in segment_data.items():\n",
    "        print(f\"  {key}: {value}\")\n",
    "    \n",
    "    print(f\"\\nInitial Velocity: {initial_velocity} m/s\")\n",
    "    print(f\"Target Velocity: {target_velocity} m/s ({target_velocity*3.6:.1f} km/h)\")\n",
    "    \n",
    "    print(\"\\n=== CALCULATION STEPS ===\")\n",
    "    \n",
    "    # STEP 1: Calculate forces at constant velocity\n",
    "    print(\"\\nSTEP 1: Forces at constant velocity\")\n",
    "    \n",
    "    # Copy segment data with target velocity for constant calculations\n",
    "    constant_velocity_data = segment_data.copy()\n",
    "    constant_velocity_data[\"velocity\"] = target_velocity\n",
    "    constant_velocity_data[\"acceleration\"] = 0\n",
    "    \n",
    "    # Calculate individual forces\n",
    "    avg_incline_angle = np.radians(constant_velocity_data[\"avg_incline_angle\"])\n",
    "    \n",
    "    # Force from air resistance\n",
    "    drag_force = 0.5 * static_data[\"air_dens\"] * vehicle_data[\"frontal_area\"] * vehicle_data[\"drag_coeff\"] * target_velocity**2\n",
    "    \n",
    "    # Force from gravity (climbing)\n",
    "    grav_force = vehicle_data[\"mass\"] * static_data[\"grav_acc\"] * np.sin(avg_incline_angle)\n",
    "    \n",
    "    # Force from rolling resistance\n",
    "    roll_res_force = vehicle_data[\"mass\"] * static_data[\"grav_acc\"] * np.cos(avg_incline_angle) * vehicle_data[\"roll_res\"]\n",
    "    \n",
    "    # Calculate total force and power\n",
    "    total_force = drag_force + grav_force + roll_res_force\n",
    "    tract_power = total_force * target_velocity\n",
    "    \n",
    "    print(f\"  Drag Force: {drag_force:.2f} N\")\n",
    "    print(f\"  Gravitational Force: {grav_force:.2f} N\")\n",
    "    print(f\"  Rolling Resistance: {roll_res_force:.2f} N\")\n",
    "    print(f\"  Total Force: {total_force:.2f} N\")\n",
    "    print(f\"  Tractive Power: {tract_power:.2f} W\")\n",
    "    \n",
    "    # STEP 2: Calculate battery power\n",
    "    print(\"\\nSTEP 2: Battery power\")\n",
    "    \n",
    "    # Calculate the power required from the battery\n",
    "    battery_power = battery_power_model(tract_power, motor_efficiency)\n",
    "    print(f\"  Battery Power: {battery_power:.2f} W\")\n",
    "    \n",
    "    # STEP 3: Full segment energy calculation with acceleration\n",
    "    print(\"\\nSTEP 3: Full segment energy calculation with acceleration\")\n",
    "    \n",
    "    # Calculate energy for the segment with acceleration\n",
    "    energy_result = calculate_segment_energy_with_acceleration(\n",
    "        initial_velocity, target_velocity, segment_data,\n",
    "        vehicle_data, static_data, max_motor_power, motor_efficiency\n",
    "    )\n",
    "    \n",
    "    # Print the results\n",
    "    print(\"\\nAcceleration Analysis:\")\n",
    "    print(f\"  Initial Velocity: {energy_result['initial_velocity']:.2f} m/s\")\n",
    "    print(f\"  Final Velocity: {energy_result['final_velocity']:.2f} m/s\")\n",
    "    print(f\"  Reached Target: {energy_result['reached_target']}\")\n",
    "    print(f\"  Acceleration: {energy_result['acceleration']:.4f} m/s²\")\n",
    "    \n",
    "    if \"acceleration_phase\" in energy_result:\n",
    "        print(\"\\nAcceleration Phase:\")\n",
    "        print(f\"  Distance: {energy_result['acceleration_phase']['distance']:.2f} m\")\n",
    "        print(f\"  Time: {energy_result['acceleration_phase']['time']:.2f} s\")\n",
    "        print(f\"  Energy: {energy_result['acceleration_phase']['energy']:.2f} Wh\")\n",
    "        \n",
    "        print(\"\\nConstant Velocity Phase:\")\n",
    "        print(f\"  Distance: {energy_result['constant_phase']['distance']:.2f} m\")\n",
    "        print(f\"  Time: {energy_result['constant_phase']['time']:.2f} s\")\n",
    "        print(f\"  Energy: {energy_result['constant_phase']['energy']:.2f} Wh\")\n",
    "        \n",
    "        print(\"\\nTotal:\")\n",
    "        print(f\"  Time: {energy_result['total_time']:.2f} s\")\n",
    "        print(f\"  Energy: {energy_result['total_energy']:.2f} Wh\")\n",
    "    else:\n",
    "        print(\"\\nSimple Case (no acceleration phases):\")\n",
    "        print(f\"  Time: {energy_result['time']:.2f} s\")\n",
    "        print(f\"  Energy: {energy_result['energy_consumption']:.2f} Wh\")\n",
    "    \n",
    "    # Calculate energy per kilometer\n",
    "    distance_km = segment_data[\"distance\"] / 1000\n",
    "    energy_wh = energy_result.get('total_energy', energy_result.get('energy_consumption', 0))\n",
    "    energy_per_km = energy_wh / distance_km\n",
    "    \n",
    "    print(\"\\n=== SUMMARY ===\")\n",
    "    print(f\"Total Energy Consumption: {energy_wh:.2f} Wh\")\n",
    "    print(f\"Energy per km: {energy_per_km:.2f} Wh/km\")"
   ]
  },
  {
   "cell_type": "markdown",
   "metadata": {},
   "source": [
    "Test Current and C-Rate Calculations"
   ]
  },
  {
   "cell_type": "code",
   "execution_count": 28,
   "metadata": {},
   "outputs": [],
   "source": [
    "OCV = battery_data[\"OCV\"]\n",
    "R_i = battery_data[\"R_internal\"]\n",
    "cap = battery_data[\"Capacity\"]\n",
    "max_power = vehicle_data[\"max_motor_power\"]"
   ]
  },
  {
   "cell_type": "code",
   "execution_count": 29,
   "metadata": {},
   "outputs": [
    {
     "name": "stdout",
     "output_type": "stream",
     "text": [
      "1.2730591207586595\n"
     ]
    },
    {
     "data": {
      "image/png": "[encoded data removed]",
      "text/plain": [
       "<Figure size 640x480 with 1 Axes>"
      ]
     },
     "metadata": {},
     "output_type": "display_data"
    }
   ],
   "source": []
  },
  {
   "cell_type": "code",
   "execution_count": null,
   "metadata": {},
   "outputs": [],
   "source": []
  }
 ],
 "metadata": {
  "kernelspec": {
   "display_name": "vrpvenv",
   "language": "python",
   "name": "python3"
  },
  "language_info": {
   "codemirror_mode": {
    "name": "ipython",
    "version": 3
   },
   "file_extension": ".py",
   "mimetype": "text/x-python",
   "name": "python",
   "nbconvert_exporter": "python",
   "pygments_lexer": "ipython3",
   "version": "3.13.0"
  }
 },
 "nbformat": 4,
 "nbformat_minor": 2
}
