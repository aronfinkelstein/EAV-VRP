{
 "cells": [
  {
   "cell_type": "code",
   "execution_count": 1,
   "metadata": {},
   "outputs": [],
   "source": [
    "import stopstart as ss"
   ]
  },
  {
   "cell_type": "code",
   "execution_count": 2,
   "metadata": {},
   "outputs": [
    {
     "name": "stdout",
     "output_type": "stream",
     "text": [
      "Loaded 735 edges from the CSV file\n",
      "Found 225 complex intersection nodes\n",
      "Found 8 nodes with junction tags\n",
      "Found 72 nodes with significant highway transitions\n",
      "Found 3 nodes with significant speed transitions\n",
      "\n",
      "Results:\n",
      "Total edges: 735\n",
      "Edges with stop-start driving: 654 (89.0%)\n"
     ]
    },
    {
     "name": "stderr",
     "output_type": "stream",
     "text": [
      "/Users/aronfinkelstein/Documents/GitHub/EAV-VRP/data_acquisition/stopstart.py:186: FutureWarning: Setting an item of incompatible dtype is deprecated and will raise an error in a future version of pandas. Value '6.5' has dtype incompatible with int64, please explicitly cast to a compatible dtype first.\n",
      "  result_df.loc[i, 'confidence'] = max(u_conf, v_conf)\n"
     ]
    }
   ],
   "source": [
    "stop_start_edges = ss.classify_stop_start_edges('../data/random_weight_edge.csv')\n",
    "stop_start_edges.to_csv('edge_stop_start_classification.csv', index=False)"
   ]
  }
 ],
 "metadata": {
  "kernelspec": {
   "display_name": "vrpvenv",
   "language": "python",
   "name": "python3"
  },
  "language_info": {
   "codemirror_mode": {
    "name": "ipython",
    "version": 3
   },
   "file_extension": ".py",
   "mimetype": "text/x-python",
   "name": "python",
   "nbconvert_exporter": "python",
   "pygments_lexer": "ipython3",
   "version": "3.13.0"
  }
 },
 "nbformat": 4,
 "nbformat_minor": 2
}
